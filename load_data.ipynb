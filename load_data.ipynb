{
 "cells": [
  {
   "cell_type": "code",
   "execution_count": 383,
   "metadata": {},
   "outputs": [],
   "source": [
    "import requests\n",
    "import json\n",
    "import pandas as pd\n",
    "import pickle\n",
    "from sklearn.model_selection import train_test_split\n",
    "from sklearn.feature_extraction.text import HashingVectorizer, FeatureHasher, TfidfVectorizer\n",
    "from sklearn.cluster import KMeans, DBSCAN\n",
    "from sklearn.pipeline import make_pipeline, Pipeline, FeatureUnion\n",
    "from sklearn.compose import ColumnTransformer, make_column_transformer\n",
    "from sklearn.preprocessing import StandardScaler, OneHotEncoder, FunctionTransformer\n",
    "from sklearn.impute import SimpleImputer\n",
    "from sklearn.metrics import silhouette_score, homogeneity_score\n",
    "from sklearn.base import BaseEstimator, TransformerMixin\n",
    "from sklearn.pipeline import Pipeline\n",
    "\n"
   ]
  },
  {
   "cell_type": "code",
   "execution_count": 2,
   "metadata": {},
   "outputs": [],
   "source": [
    "URL = \"https://slot-ml.com/\"\n",
    "token = \"f5d972e2a847e8fa8586a292579d972a07485796\""
   ]
  },
  {
   "cell_type": "code",
   "execution_count": 3,
   "metadata": {},
   "outputs": [],
   "source": [
    "recs = []"
   ]
  },
  {
   "cell_type": "code",
   "execution_count": 222,
   "metadata": {},
   "outputs": [],
   "source": [
    "for i in range(3000):\n",
    "    input = requests.get(url=f'{URL}api/v1/users/{token}/vectors/?random')\n",
    "    try:\n",
    "        recs.append(input.json())\n",
    "    except ValueError:\n",
    "        recs.append(json.loads(input.text.replace('\\n\\t',' ')))"
   ]
  },
  {
   "cell_type": "code",
   "execution_count": 224,
   "metadata": {},
   "outputs": [
    {
     "data": {
      "text/plain": [
       "3200"
      ]
     },
     "execution_count": 224,
     "metadata": {},
     "output_type": "execute_result"
    }
   ],
   "source": [
    "len(recs)"
   ]
  },
  {
   "cell_type": "code",
   "execution_count": 225,
   "metadata": {},
   "outputs": [],
   "source": [
    "recs_df = pd.DataFrame.from_records(recs)"
   ]
  },
  {
   "cell_type": "code",
   "execution_count": 226,
   "metadata": {},
   "outputs": [],
   "source": [
    "# recs_df['meta7'] = recs_df['meta1'] + recs_df['meta3'].astype(str)"
   ]
  },
  {
   "cell_type": "code",
   "execution_count": 227,
   "metadata": {},
   "outputs": [
    {
     "name": "stdout",
     "output_type": "stream",
     "text": [
      "meta1 20\n",
      "id 3200\n",
      "meta2 596\n",
      "vector 3196\n",
      "meta3 17\n",
      "meta6 1692\n",
      "meta4 1536\n",
      "meta5 940\n"
     ]
    }
   ],
   "source": [
    "for c in recs_df.columns:\n",
    "    print(c, recs_df[c].nunique())"
   ]
  },
  {
   "cell_type": "code",
   "execution_count": 230,
   "metadata": {},
   "outputs": [],
   "source": [
    "recs_df.to_parquet('data_3200.pq')"
   ]
  },
  {
   "cell_type": "code",
   "execution_count": 228,
   "metadata": {},
   "outputs": [
    {
     "data": {
      "text/html": [
       "<div>\n",
       "<style scoped>\n",
       "    .dataframe tbody tr th:only-of-type {\n",
       "        vertical-align: middle;\n",
       "    }\n",
       "\n",
       "    .dataframe tbody tr th {\n",
       "        vertical-align: top;\n",
       "    }\n",
       "\n",
       "    .dataframe thead th {\n",
       "        text-align: right;\n",
       "    }\n",
       "</style>\n",
       "<table border=\"1\" class=\"dataframe\">\n",
       "  <thead>\n",
       "    <tr style=\"text-align: right;\">\n",
       "      <th></th>\n",
       "      <th>meta1</th>\n",
       "      <th>id</th>\n",
       "      <th>meta2</th>\n",
       "      <th>vector</th>\n",
       "      <th>meta3</th>\n",
       "      <th>meta6</th>\n",
       "      <th>meta4</th>\n",
       "      <th>meta5</th>\n",
       "    </tr>\n",
       "  </thead>\n",
       "  <tbody>\n",
       "    <tr>\n",
       "      <th>0</th>\n",
       "      <td>REQUEST_METHOD\\';\\'REQUEST_CONTE</td>\n",
       "      <td>c2783e93ef19a9e152eb57e41cc8eb1d</td>\n",
       "      <td></td>\n",
       "      <td>POST\\';\\'multipart/form-data; boundary=4986caa...</td>\n",
       "      <td>200</td>\n",
       "      <td>146.185.223.177</td>\n",
       "      <td>8893</td>\n",
       "      <td>Mozilla/5.0 (Windows NT 8.0; WOW64; rv:41.0) G...</td>\n",
       "    </tr>\n",
       "    <tr>\n",
       "      <th>1</th>\n",
       "      <td>REQUEST_ARGS</td>\n",
       "      <td>888c19e9a60688f0c2b87ad18904e5fd</td>\n",
       "      <td>section</td>\n",
       "      <td>44{${print(chr(49).chr(55).chr(73).chr(53).chr...</td>\n",
       "      <td>200</td>\n",
       "      <td>2a01:4f8:212:284c::2</td>\n",
       "      <td>404</td>\n",
       "      <td>{${print(chr(49).chr(55).chr(73).chr(53).chr(5...</td>\n",
       "    </tr>\n",
       "    <tr>\n",
       "      <th>2</th>\n",
       "      <td>REQUEST_PATH</td>\n",
       "      <td>4042685b4edfd933d71e8c61a2ee21c7</td>\n",
       "      <td></td>\n",
       "      <td>/.gitmodules</td>\n",
       "      <td>404</td>\n",
       "      <td>185.5.140.253</td>\n",
       "      <td>291</td>\n",
       "      <td>Mozilla/5.0 (Windows NT 6.1) AppleWebKit/537.3...</td>\n",
       "    </tr>\n",
       "    <tr>\n",
       "      <th>3</th>\n",
       "      <td>REQUEST_ARGS</td>\n",
       "      <td>68e5756671163069c0d3c869bcf3f1de</td>\n",
       "      <td></td>\n",
       "      <td>\\n--boundaryemae\\nContent-Disposition: form-da...</td>\n",
       "      <td>200</td>\n",
       "      <td>185.70.104.11</td>\n",
       "      <td>968</td>\n",
       "      <td>Mozilla/4.0 (compatible; Win32; WinHttp.WinHtt...</td>\n",
       "    </tr>\n",
       "    <tr>\n",
       "      <th>4</th>\n",
       "      <td>REQUEST_POST_ARGS</td>\n",
       "      <td>cd37c886e974148cd5de091b0ae8db36</td>\n",
       "      <td>a</td>\n",
       "      <td>http://w2pxzw12.b.wlrm.tl/a.dtd</td>\n",
       "      <td>200</td>\n",
       "      <td>139.162.144.202</td>\n",
       "      <td>471</td>\n",
       "      <td>Mozilla/5.0 (Windows NT 6.3; WOW64; Trident/7....</td>\n",
       "    </tr>\n",
       "  </tbody>\n",
       "</table>\n",
       "</div>"
      ],
      "text/plain": [
       "                              meta1                                id  \\\n",
       "0  REQUEST_METHOD\\';\\'REQUEST_CONTE  c2783e93ef19a9e152eb57e41cc8eb1d   \n",
       "1                      REQUEST_ARGS  888c19e9a60688f0c2b87ad18904e5fd   \n",
       "2                      REQUEST_PATH  4042685b4edfd933d71e8c61a2ee21c7   \n",
       "3                      REQUEST_ARGS  68e5756671163069c0d3c869bcf3f1de   \n",
       "4                 REQUEST_POST_ARGS  cd37c886e974148cd5de091b0ae8db36   \n",
       "\n",
       "     meta2                                             vector  meta3  \\\n",
       "0           POST\\';\\'multipart/form-data; boundary=4986caa...    200   \n",
       "1  section  44{${print(chr(49).chr(55).chr(73).chr(53).chr...    200   \n",
       "2                                                /.gitmodules    404   \n",
       "3           \\n--boundaryemae\\nContent-Disposition: form-da...    200   \n",
       "4        a                    http://w2pxzw12.b.wlrm.tl/a.dtd    200   \n",
       "\n",
       "                  meta6  meta4  \\\n",
       "0       146.185.223.177   8893   \n",
       "1  2a01:4f8:212:284c::2    404   \n",
       "2         185.5.140.253    291   \n",
       "3         185.70.104.11    968   \n",
       "4       139.162.144.202    471   \n",
       "\n",
       "                                               meta5  \n",
       "0  Mozilla/5.0 (Windows NT 8.0; WOW64; rv:41.0) G...  \n",
       "1  {${print(chr(49).chr(55).chr(73).chr(53).chr(5...  \n",
       "2  Mozilla/5.0 (Windows NT 6.1) AppleWebKit/537.3...  \n",
       "3  Mozilla/4.0 (compatible; Win32; WinHttp.WinHtt...  \n",
       "4  Mozilla/5.0 (Windows NT 6.3; WOW64; Trident/7....  "
      ]
     },
     "execution_count": 228,
     "metadata": {},
     "output_type": "execute_result"
    }
   ],
   "source": [
    "recs_df.head()"
   ]
  },
  {
   "cell_type": "code",
   "execution_count": 231,
   "metadata": {},
   "outputs": [],
   "source": [
    "text_features = ['meta1', 'meta2', 'vector', 'meta5', 'meta6']\n",
    "categ_features = ['meta3']\n",
    "float_features = ['meta4']"
   ]
  },
  {
   "cell_type": "code",
   "execution_count": 373,
   "metadata": {},
   "outputs": [],
   "source": [
    "def ColumnPicker(dataframe, column_name):\n",
    "    return dataframe[column_name]"
   ]
  },
  {
   "cell_type": "code",
   "execution_count": 394,
   "metadata": {},
   "outputs": [],
   "source": [
    "\n",
    "class FeatureSelector(BaseEstimator, TransformerMixin):\n",
    "    def __init__(self, columns):\n",
    "        self.columns = columns\n",
    "\n",
    "    def fit(self, X, y=None):\n",
    "        return self\n",
    "\n",
    "    def transform(self, X, y=None):\n",
    "        return X[self.columns]"
   ]
  },
  {
   "cell_type": "code",
   "execution_count": 395,
   "metadata": {},
   "outputs": [],
   "source": [
    "numeric_transformer = Pipeline(steps=[('scaler', StandardScaler())])\n",
    "\n",
    "categorical_transformer = Pipeline(steps=[('onehot', OneHotEncoder(handle_unknown='ignore', sparse=False))])\n",
    "\n",
    "text_preprocessing = FeatureUnion([\n",
    "                ('meta1', \n",
    "                  Pipeline([('extract_field', FeatureSelector(columns='meta1')),\n",
    "                            ('tfidf', TfidfVectorizer(min_df=0.01))])),\n",
    "                ('meta2', \n",
    "                  Pipeline([('extract_field', FeatureSelector(columns='meta2')),\n",
    "                            ('tfidf', TfidfVectorizer(min_df=0.005))])),\n",
    "                ('vector', \n",
    "                  Pipeline([('extract_field', FeatureSelector(columns='vector')),\n",
    "                            ('tfidf', TfidfVectorizer(min_df=0.01))])),\n",
    "                ('meta5', \n",
    "                  Pipeline([('extract_field', FeatureSelector(columns='meta5')),\n",
    "                            ('tfidf', TfidfVectorizer(min_df=0.05))])),\n",
    "                ('meta6', \n",
    "                  Pipeline([('extract_field', FeatureSelector(columns='meta6')),\n",
    "                            ('tfidf', TfidfVectorizer(min_df=0.05))])),\n",
    "                            ]) \n",
    "\n",
    "preprocessor = ColumnTransformer(\n",
    "    transformers=[\n",
    "                ('num', numeric_transformer, float_features),\n",
    "                ('cat', categorical_transformer, categ_features),\n",
    "                ('text', text_preprocessing, text_features)\n",
    "                ])\n",
    "clf = Pipeline(steps=[('preprocessor', preprocessor),\n",
    "                      \n",
    "                      ])"
   ]
  },
  {
   "cell_type": "code",
   "execution_count": 379,
   "metadata": {},
   "outputs": [],
   "source": [
    "x_train, x_test = train_test_split(recs_df, test_size=0.2)"
   ]
  },
  {
   "cell_type": "code",
   "execution_count": 291,
   "metadata": {},
   "outputs": [
    {
     "data": {
      "text/html": [
       "<div>\n",
       "<style scoped>\n",
       "    .dataframe tbody tr th:only-of-type {\n",
       "        vertical-align: middle;\n",
       "    }\n",
       "\n",
       "    .dataframe tbody tr th {\n",
       "        vertical-align: top;\n",
       "    }\n",
       "\n",
       "    .dataframe thead th {\n",
       "        text-align: right;\n",
       "    }\n",
       "</style>\n",
       "<table border=\"1\" class=\"dataframe\">\n",
       "  <thead>\n",
       "    <tr style=\"text-align: right;\">\n",
       "      <th></th>\n",
       "      <th>meta1</th>\n",
       "      <th>id</th>\n",
       "      <th>meta2</th>\n",
       "      <th>vector</th>\n",
       "      <th>meta3</th>\n",
       "      <th>meta6</th>\n",
       "      <th>meta4</th>\n",
       "      <th>meta5</th>\n",
       "    </tr>\n",
       "  </thead>\n",
       "  <tbody>\n",
       "    <tr>\n",
       "      <th>639</th>\n",
       "      <td>REQUEST_HEADERS</td>\n",
       "      <td>74be2f2a5b38f18d4c111895eae6cb24</td>\n",
       "      <td>Referer</td>\n",
       "      <td>file://localhost/mtd_down/widgets/user/IPTVGro...</td>\n",
       "      <td>200</td>\n",
       "      <td>78.62.183.18</td>\n",
       "      <td>528</td>\n",
       "      <td>Mozilla/5.0 (Windows; U; en-US; rv:1.8.1.11; G...</td>\n",
       "    </tr>\n",
       "    <tr>\n",
       "      <th>2874</th>\n",
       "      <td>REQUEST_COOKIES</td>\n",
       "      <td>8450af1251875542a94125c6d7451517</td>\n",
       "      <td>REQUEST_COOKIES.LtpaToken2</td>\n",
       "      <td>ckhnPdEMvNUfKGMyV0/52msVUtSwgQiSuTo89xU3wxPjNs...</td>\n",
       "      <td>404</td>\n",
       "      <td>217.66.154.231</td>\n",
       "      <td>1481</td>\n",
       "      <td>Mozilla/5.0 (iPhone; CPU iPhone OS 11_1_2 like...</td>\n",
       "    </tr>\n",
       "    <tr>\n",
       "      <th>714</th>\n",
       "      <td>REQUEST_HEADERS</td>\n",
       "      <td>a38f1fda186fa8f8f4d2113e61e883ee</td>\n",
       "      <td>User-Agent</td>\n",
       "      <td>Mozilla/5.00 (Nikto/2.1.6) (Evasions:None) (Te...</td>\n",
       "      <td>404</td>\n",
       "      <td>213.108.201.228</td>\n",
       "      <td>328</td>\n",
       "      <td>Mozilla/5.00 (Nikto/2.1.6) (Evasions:None) (Te...</td>\n",
       "    </tr>\n",
       "    <tr>\n",
       "      <th>1016</th>\n",
       "      <td>REQUEST_ARGS</td>\n",
       "      <td>ca2ecd18079ef359094b9117b491894b</td>\n",
       "      <td></td>\n",
       "      <td>\\n--boundaryemae\\nContent-Disposition: form-da...</td>\n",
       "      <td>200</td>\n",
       "      <td>185.70.104.11</td>\n",
       "      <td>973</td>\n",
       "      <td>Mozilla/4.0 (compatible; Win32; WinHttp.WinHtt...</td>\n",
       "    </tr>\n",
       "    <tr>\n",
       "      <th>2227</th>\n",
       "      <td>CLIENT_USERAGENT</td>\n",
       "      <td>aeb0edd2cfacaf91cca3008e55704e61</td>\n",
       "      <td></td>\n",
       "      <td>Mozilla/4.0 (compatible; MSIE 7.0; Windows NT ...</td>\n",
       "      <td>200</td>\n",
       "      <td>93.189.248.14</td>\n",
       "      <td>640</td>\n",
       "      <td>Mozilla/4.0 (compatible; MSIE 7.0; Windows NT ...</td>\n",
       "    </tr>\n",
       "  </tbody>\n",
       "</table>\n",
       "</div>"
      ],
      "text/plain": [
       "                 meta1                                id  \\\n",
       "639    REQUEST_HEADERS  74be2f2a5b38f18d4c111895eae6cb24   \n",
       "2874   REQUEST_COOKIES  8450af1251875542a94125c6d7451517   \n",
       "714    REQUEST_HEADERS  a38f1fda186fa8f8f4d2113e61e883ee   \n",
       "1016      REQUEST_ARGS  ca2ecd18079ef359094b9117b491894b   \n",
       "2227  CLIENT_USERAGENT  aeb0edd2cfacaf91cca3008e55704e61   \n",
       "\n",
       "                           meta2  \\\n",
       "639                      Referer   \n",
       "2874  REQUEST_COOKIES.LtpaToken2   \n",
       "714                   User-Agent   \n",
       "1016                               \n",
       "2227                               \n",
       "\n",
       "                                                 vector  meta3  \\\n",
       "639   file://localhost/mtd_down/widgets/user/IPTVGro...    200   \n",
       "2874  ckhnPdEMvNUfKGMyV0/52msVUtSwgQiSuTo89xU3wxPjNs...    404   \n",
       "714   Mozilla/5.00 (Nikto/2.1.6) (Evasions:None) (Te...    404   \n",
       "1016  \\n--boundaryemae\\nContent-Disposition: form-da...    200   \n",
       "2227  Mozilla/4.0 (compatible; MSIE 7.0; Windows NT ...    200   \n",
       "\n",
       "                meta6  meta4  \\\n",
       "639      78.62.183.18    528   \n",
       "2874   217.66.154.231   1481   \n",
       "714   213.108.201.228    328   \n",
       "1016    185.70.104.11    973   \n",
       "2227    93.189.248.14    640   \n",
       "\n",
       "                                                  meta5  \n",
       "639   Mozilla/5.0 (Windows; U; en-US; rv:1.8.1.11; G...  \n",
       "2874  Mozilla/5.0 (iPhone; CPU iPhone OS 11_1_2 like...  \n",
       "714   Mozilla/5.00 (Nikto/2.1.6) (Evasions:None) (Te...  \n",
       "1016  Mozilla/4.0 (compatible; Win32; WinHttp.WinHtt...  \n",
       "2227  Mozilla/4.0 (compatible; MSIE 7.0; Windows NT ...  "
      ]
     },
     "execution_count": 291,
     "metadata": {},
     "output_type": "execute_result"
    }
   ],
   "source": [
    "x_train.head()"
   ]
  },
  {
   "cell_type": "code",
   "execution_count": 355,
   "metadata": {},
   "outputs": [],
   "source": [
    "m1tf = TfidfVectorizer(min_df=0.05)\n",
    "m2tf = TfidfVectorizer(min_df=0.01)\n",
    "vectf = TfidfVectorizer(min_df=0.005)\n",
    "m1 = m1tf.fit_transform(x_train['meta1'])\n",
    "m2 = m2tf.fit_transform(x_train['meta2'])\n",
    "vec = vectf.fit_transform(x_train['vector'])"
   ]
  },
  {
   "cell_type": "code",
   "execution_count": 396,
   "metadata": {},
   "outputs": [],
   "source": [
    "x_train_trn = clf.fit_transform(x_train.drop('id', axis=1))\n",
    "x_test_trn = clf.transform(x_test.drop('id', axis=1))"
   ]
  },
  {
   "cell_type": "code",
   "execution_count": 397,
   "metadata": {},
   "outputs": [
    {
     "data": {
      "text/plain": [
       "(2560, 262)"
      ]
     },
     "execution_count": 397,
     "metadata": {},
     "output_type": "execute_result"
    }
   ],
   "source": [
    "x_train_trn.shape"
   ]
  },
  {
   "cell_type": "code",
   "execution_count": 398,
   "metadata": {},
   "outputs": [],
   "source": [
    "km = KMeans(n_clusters=50)"
   ]
  },
  {
   "cell_type": "code",
   "execution_count": 399,
   "metadata": {},
   "outputs": [],
   "source": [
    "y_train = km.fit_predict(x_train_trn)"
   ]
  },
  {
   "cell_type": "code",
   "execution_count": 400,
   "metadata": {},
   "outputs": [],
   "source": [
    "y_test = km.predict(x_test_trn)"
   ]
  },
  {
   "cell_type": "code",
   "execution_count": 401,
   "metadata": {},
   "outputs": [
    {
     "data": {
      "text/plain": [
       "0.28450805831218"
      ]
     },
     "execution_count": 401,
     "metadata": {},
     "output_type": "execute_result"
    }
   ],
   "source": [
    "silhouette_score(x_train_trn, y_train)"
   ]
  },
  {
   "cell_type": "code",
   "execution_count": 402,
   "metadata": {},
   "outputs": [
    {
     "data": {
      "text/plain": [
       "0.28385764215358994"
      ]
     },
     "execution_count": 402,
     "metadata": {},
     "output_type": "execute_result"
    }
   ],
   "source": [
    "silhouette_score(x_test_trn, y_test)"
   ]
  },
  {
   "cell_type": "code",
   "execution_count": 403,
   "metadata": {},
   "outputs": [],
   "source": [
    "x_all = clf.fit_transform(recs_df.drop('id',axis=1))"
   ]
  },
  {
   "cell_type": "code",
   "execution_count": 404,
   "metadata": {},
   "outputs": [],
   "source": [
    "y = km.fit_predict(x_all)"
   ]
  },
  {
   "cell_type": "code",
   "execution_count": 405,
   "metadata": {},
   "outputs": [],
   "source": [
    "pickle.dump(km, open('km.p', 'wb'))"
   ]
  },
  {
   "cell_type": "code",
   "execution_count": 406,
   "metadata": {},
   "outputs": [],
   "source": [
    "pickle.dump(clf, open('prep.p', 'wb'))"
   ]
  },
  {
   "cell_type": "code",
   "execution_count": null,
   "metadata": {},
   "outputs": [],
   "source": []
  }
 ],
 "metadata": {
  "interpreter": {
   "hash": "916dbcbb3f70747c44a77c7bcd40155683ae19c65e1c03b4aa3499c5328201f1"
  },
  "kernelspec": {
   "display_name": "Python 3.8.10 64-bit",
   "language": "python",
   "name": "python3"
  },
  "language_info": {
   "codemirror_mode": {
    "name": "ipython",
    "version": 3
   },
   "file_extension": ".py",
   "mimetype": "text/x-python",
   "name": "python",
   "nbconvert_exporter": "python",
   "pygments_lexer": "ipython3",
   "version": "3.8.10"
  },
  "orig_nbformat": 4
 },
 "nbformat": 4,
 "nbformat_minor": 2
}
